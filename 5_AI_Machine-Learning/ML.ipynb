{
 "cells": [
  {
   "cell_type": "code",
   "execution_count": null,
   "id": "960ab512-bb2d-4377-9b27-d8374c8f15e7",
   "metadata": {},
   "outputs": [],
   "source": [
    "# New Project ML - \n"
   ]
  },
  {
   "cell_type": "code",
   "execution_count": null,
   "id": "a12d4b29-f6fd-41bd-88f6-2d15f8944e01",
   "metadata": {},
   "outputs": [],
   "source": []
  }
 ],
 "metadata": {
  "kernelspec": {
   "display_name": "Python 3 (ipykernel)",
   "language": "python",
   "name": "python3"
  },
  "language_info": {
   "codemirror_mode": {
    "name": "ipython",
    "version": 3
   },
   "file_extension": ".py",
   "mimetype": "text/x-python",
   "name": "python",
   "nbconvert_exporter": "python",
   "pygments_lexer": "ipython3",
   "version": "3.13.0"
  }
 },
 "nbformat": 4,
 "nbformat_minor": 5
}
