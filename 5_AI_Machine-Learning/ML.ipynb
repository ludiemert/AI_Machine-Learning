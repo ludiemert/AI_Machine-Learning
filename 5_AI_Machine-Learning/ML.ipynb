{
 "cells": [
  {
   "cell_type": "code",
   "execution_count": null,
   "id": "960ab512-bb2d-4377-9b27-d8374c8f15e7",
   "metadata": {},
   "outputs": [],
   "source": [
    "# New Project ML - \n"
   ]
  },
  {
   "cell_type": "code",
   "execution_count": null,
   "id": "a12d4b29-f6fd-41bd-88f6-2d15f8944e01",
   "metadata": {},
   "outputs": [],
   "source": [
    "# import lib\n",
    "import pandas as pd\n",
    "import plotly.express as px\n",
    "import plotly.graph_objects as go\n",
    "import matplotlib.pyplot as plt\n",
    "import seaborn as sns\n",
    "import numpy as np\n",
    "\n",
    "# api de visualizacao de graficos\n",
    "px.set_mapbox_access_token(open(\"mapbox_token\").read())"
   ]
  },
  {
   "cell_type": "code",
   "execution_count": null,
   "id": "326e2850-f1c5-4f83-9a51-1800f70fbac9",
   "metadata": {},
   "outputs": [],
   "source": []
  }
 ],
 "metadata": {
  "kernelspec": {
   "display_name": "Python 3 (ipykernel)",
   "language": "python",
   "name": "python3"
  },
  "language_info": {
   "codemirror_mode": {
    "name": "ipython",
    "version": 3
   },
   "file_extension": ".py",
   "mimetype": "text/x-python",
   "name": "python",
   "nbconvert_exporter": "python",
   "pygments_lexer": "ipython3",
   "version": "3.13.0"
  }
 },
 "nbformat": 4,
 "nbformat_minor": 5
}
